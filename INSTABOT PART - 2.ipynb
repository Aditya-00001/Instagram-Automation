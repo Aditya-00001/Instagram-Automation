{
 "cells": [
  {
   "cell_type": "markdown",
   "id": "8eb5acac",
   "metadata": {},
   "source": [
    "# INSTABOT - 2"
   ]
  },
  {
   "cell_type": "code",
   "execution_count": 2,
   "id": "1e5ae800",
   "metadata": {},
   "outputs": [],
   "source": [
    "from selenium import webdriver as wb\n",
    "from selenium.webdriver.common.by import By\n",
    "from selenium.webdriver.support.ui import WebDriverWait as wdw\n",
    "from selenium.common.exceptions import TimeoutException as TE\n",
    "from selenium.webdriver.support import expected_conditions as EC\n",
    "from bs4 import BeautifulSoup as bs \n",
    "import time\n",
    "from datetime import datetime,timedelta\n",
    "from collections import OrderedDict\n",
    "import pandas as pd\n",
    "import numpy as np\n",
    "import matplotlib.pyplot as plt"
   ]
  },
  {
   "cell_type": "code",
   "execution_count": 26,
   "id": "c55f681c",
   "metadata": {},
   "outputs": [],
   "source": [
    "driver = wb.Chrome()\n",
    "driver.maximize_window()"
   ]
  },
  {
   "cell_type": "code",
   "execution_count": 27,
   "id": "2f7e3c6a",
   "metadata": {},
   "outputs": [],
   "source": [
    "driver.get(\"https://www.instagram.com/\")"
   ]
  },
  {
   "cell_type": "code",
   "execution_count": 28,
   "id": "874ca58d",
   "metadata": {},
   "outputs": [],
   "source": [
    "username = 'sample username'\n",
    "password = 'sample password'"
   ]
  },
  {
   "cell_type": "code",
   "execution_count": 29,
   "id": "a1d9a62b",
   "metadata": {},
   "outputs": [],
   "source": [
    "wait = wdw(driver,10)"
   ]
  },
  {
   "cell_type": "code",
   "execution_count": 20,
   "id": "461907a5",
   "metadata": {},
   "outputs": [],
   "source": [
    "def LOG_IN(username,password):\n",
    "    try :\n",
    "#       locating username textbox and sending username to it \n",
    "        user = wait.until(EC.presence_of_element_located((By.NAME,'username')))\n",
    "        user.send_keys(username)\n",
    "#       locating pass textbox and sending the password\n",
    "        pw = driver.find_element(By.NAME,'password')\n",
    "        pw.send_keys(password)\n",
    "        #locating login button \n",
    "        button = wait.until(EC.presence_of_element_located((By.XPATH,'//*[@id=\"loginForm\"]/div[1]/div[3]/button/div')))\n",
    "        button.submit()\n",
    "        #Save Your Login Info? : Not Now\n",
    "        pop = wait.until(EC.presence_of_element_located((By.CLASS_NAME,'_ac8f')))\n",
    "        pop.click()\n",
    "        #turn on notification? : not now #if logging in for first time pls enable this else let it be in comment\n",
    "#         ntfn = wait.until(EC.presence_of_element_located((By.XPATH,'//div/button[@class = \"_a9-- _a9_1\"]')))\n",
    "#         ntfn.click()\n",
    "    except TE:\n",
    "        print(\"Something went wrong! Try Again\")"
   ]
  },
  {
   "cell_type": "code",
   "execution_count": 30,
   "id": "f579bf89",
   "metadata": {},
   "outputs": [],
   "source": [
    "LOG_IN(username,password) #login to instagram"
   ]
  },
  {
   "cell_type": "code",
   "execution_count": 9,
   "id": "c623c40a",
   "metadata": {},
   "outputs": [],
   "source": [
    "def search_button():\n",
    "    driver.find_element(By.LINK_TEXT,'Search').click()"
   ]
  },
  {
   "cell_type": "code",
   "execution_count": 10,
   "id": "a71a491d",
   "metadata": {},
   "outputs": [],
   "source": [
    "def open_search_profile(s):\n",
    "    try:\n",
    "        #locating search box bar and sending text \n",
    "#         time.sleep(2)\n",
    "#         driver.find_element(By.LINK_TEXT,'Search').click()\n",
    "        time.sleep(5)\n",
    "        srch = wait.until(EC.presence_of_element_located((By.XPATH, '//input[contains(@class, \"x1lugfcp \")]')))\n",
    "        srch.send_keys(s)\n",
    "        #locating searched result\n",
    "        time.sleep(3)\n",
    "        pro = wait.until(EC.presence_of_element_located((By.XPATH,\"//div/span[@class = 'x1lliihq x1plvlek xryxfnj x1n2onr6 x193iq5w xeuugli x1fj9vlw x13faqbe x1vvkbs x1s928wv xhkezso x1gmr53x x1cpjm7i x1fgarty x1943h6x x1i0vuye xvs91rp x1s688f x5n08af x10wh9bi x1wdrske x8viiok x18hxmgj']\")))\n",
    "        time.sleep(3)\n",
    "        pro.click()\n",
    "        #         print(len(pro))\n",
    "        #locating the given profile\n",
    "#         for i in pro:\n",
    "#             time.sleep(3)\n",
    "#             if i.text == s:\n",
    "#                 i.click()\n",
    "#                 break\n",
    "        time.sleep(3)        \n",
    "    except TE:\n",
    "        print(\"No Search Found\")"
   ]
  },
  {
   "cell_type": "markdown",
   "id": "77b68fc8",
   "metadata": {},
   "source": [
    "## PROBLEM - 1"
   ]
  },
  {
   "cell_type": "markdown",
   "id": "d5d1df56",
   "metadata": {},
   "source": [
    "Now your friend has followed a lot of different food bloggers, he needs to analyse the habits of these bloggers.\n",
    "1. From the list of instagram handles you obtained when you searched ‘food’ in previous project. Open the first 10 handles and find the top 5 which have the highest number of followers\n",
    "2. Now Find the number of posts these handles have done in the previous 3 days.\n",
    "3. Depict this information using a suitable graph"
   ]
  },
  {
   "cell_type": "markdown",
   "id": "cb7286a0",
   "metadata": {},
   "source": [
    "### 1. From the list of instagram handles you obtained when you searched ‘food’ in previous project. Open the first 10 handles and find the top 5 which have the highest number of followers"
   ]
  },
  {
   "cell_type": "code",
   "execution_count": 11,
   "id": "1bbdd6d6",
   "metadata": {},
   "outputs": [],
   "source": [
    "#First 10 handles from project part-1\n",
    "handle = ['ohmyfoodiefood','dilsefoodie','foodrooaster','fooderati','thefoodmedic','yourfoodlab','food'\n",
    "          ,'foodiechina888','harrodsfood','food52']"
   ]
  },
  {
   "cell_type": "code",
   "execution_count": 23,
   "id": "75c7b569",
   "metadata": {},
   "outputs": [],
   "source": [
    "#function for getting top 5 handle which have highest number of followers\n",
    "def top_5_handles(list):\n",
    "    try:\n",
    "        #dct will contains username and number of followers\n",
    "        dct = {}\n",
    "#         search_button()\n",
    "        search_button()\n",
    "        for i in list :\n",
    "            #This fuction will search a user and open that profile\n",
    "            time.sleep(5)\n",
    "            open_search_profile(i)\n",
    "            time.sleep(2)\n",
    "            #locating followers of user\n",
    "            followers = wait.until(EC.presence_of_all_elements_located((By.CLASS_NAME,'_ac2a')))[1]\n",
    "            #replacing ',' with '' and converted into int\n",
    "            dct[i] = int(followers.get_attribute('title').replace(',' , ''))\n",
    "            driver.find_element(By.XPATH,'//div[@class = \"_aawn _9-lv\"]').click()\n",
    "        #top 5 most followed user\n",
    "        count = 0\n",
    "        res = OrderedDict()\n",
    "        for i in sorted(dct, key=dct.get, reverse=True):\n",
    "            res[i] = dct[i]\n",
    "            count += 1\n",
    "            if(count >= 5) : \n",
    "                break\n",
    "                \n",
    "        return res\n",
    "    except TE :\n",
    "        print (\"Something went wrong! Try Again\")"
   ]
  },
  {
   "cell_type": "code",
   "execution_count": 33,
   "id": "f522cb7f",
   "metadata": {},
   "outputs": [],
   "source": [
    "top_handle = top_5_handles(handle)"
   ]
  },
  {
   "cell_type": "code",
   "execution_count": 34,
   "id": "8b6db2de",
   "metadata": {},
   "outputs": [
    {
     "name": "stdout",
     "output_type": "stream",
     "text": [
      "Top 5 instagram handles which have the highest number of followers :\n",
      "food52 - 3645072\n",
      "yourfoodlab - 2709702\n",
      "foodiechina888 - 2425064\n",
      "dilsefoodie - 1138704\n",
      "thefoodmedic - 623102\n"
     ]
    }
   ],
   "source": [
    "print('Top 5 instagram handles which have the highest number of followers :')\n",
    "for names in top_handle:\n",
    "    print(names,'-',top_handle[names])"
   ]
  },
  {
   "cell_type": "markdown",
   "id": "05608adf",
   "metadata": {},
   "source": [
    "### 2.Now Find the number of posts these handles have done in the previous 3 days."
   ]
  },
  {
   "cell_type": "code",
   "execution_count": 35,
   "id": "c2c2c6b1",
   "metadata": {},
   "outputs": [],
   "source": [
    "#this function returns number of post posted by user in n days\n",
    "def count_of_post(no_of_day):\n",
    "    try :\n",
    "        #locating first post\n",
    "        post = wait.until(EC.presence_of_all_elements_located((By.CLASS_NAME,'_aagu')))\n",
    "#         post.click()\n",
    "        \n",
    "        count = 0 \n",
    "        while True :\n",
    "#             print('step - 1')\n",
    "            post[count].click()\n",
    "            time.sleep(3)\n",
    "#             print('step - 2')\n",
    "            #getting date of the the post\n",
    "            temp = wait.until(EC.presence_of_element_located((By.XPATH,'//time[@class = \"_aaqe\"]')))\n",
    "            #getting date in string format\n",
    "#             time.sleep(3)\n",
    "            date_string = temp.get_attribute('datetime')\n",
    "            #converting date string obtained above into date format i.e year-month-date time upto seconds\n",
    "            date = datetime.strptime(date_string[0:19], \"%Y-%m-%dT%H:%M:%S\")\n",
    "            #taking differnce between today's date and post posted date\n",
    "            day = (datetime.now() - date).days\n",
    "#             print('done')\n",
    "            if day > no_of_day :\n",
    "                break\n",
    "            count += 1\n",
    "            #locating next button\n",
    "            time.sleep(2)\n",
    "#             print('doing')\n",
    "            close = driver.find_elements(By.XPATH,\"//div[@class = 'x6s0dn4 x78zum5 xdt5ytf xl56j7k']\")\n",
    "            for j in close:\n",
    "                cl = bs(j.get_attribute(\"innerHTML\"),\"html.parser\").svg['aria-label']\n",
    "                if cl == \"Close\":\n",
    "                    j.click()\n",
    "                    break\n",
    "#             print('end')\n",
    "        return count\n",
    "    \n",
    "    except TE :\n",
    "        print (\"Something went wrong! Try Again\")"
   ]
  },
  {
   "cell_type": "code",
   "execution_count": 38,
   "id": "9a8eb631",
   "metadata": {
    "scrolled": true
   },
   "outputs": [],
   "source": [
    "total_count_dict = {}\n",
    "for i in top_handle:\n",
    "    search_button()\n",
    "    time.sleep(2)\n",
    "    open_search_profile(i)\n",
    "    time.sleep(3)\n",
    "    count = count_of_post(3)\n",
    "    close = driver.find_elements(By.XPATH,\"//div[@class = 'x6s0dn4 x78zum5 xdt5ytf xl56j7k']\")\n",
    "    for j in close:\n",
    "        cl = bs(j.get_attribute(\"innerHTML\"),\"html.parser\").svg['aria-label']\n",
    "        if cl == \"Close\":\n",
    "            j.click()\n",
    "            break\n",
    "    total_count_dict[i] = count"
   ]
  },
  {
   "cell_type": "code",
   "execution_count": 39,
   "id": "01a6c172",
   "metadata": {
    "scrolled": false
   },
   "outputs": [
    {
     "data": {
      "text/plain": [
       "{'food52': 0,\n",
       " 'yourfoodlab': 4,\n",
       " 'foodiechina888': 0,\n",
       " 'dilsefoodie': 3,\n",
       " 'thefoodmedic': 0}"
      ]
     },
     "execution_count": 39,
     "metadata": {},
     "output_type": "execute_result"
    }
   ],
   "source": [
    "total_count_dict"
   ]
  },
  {
   "cell_type": "code",
   "execution_count": 40,
   "id": "653c8375",
   "metadata": {
    "scrolled": true
   },
   "outputs": [
    {
     "name": "stdout",
     "output_type": "stream",
     "text": [
      "Number of posts these handles have done in the previous 3 days :\n",
      "food52 - 0\n",
      "yourfoodlab - 4\n",
      "foodiechina888 - 0\n",
      "dilsefoodie - 3\n",
      "thefoodmedic - 0\n"
     ]
    }
   ],
   "source": [
    "print('Number of posts these handles have done in the previous 3 days :')\n",
    "for i in total_count_dict:\n",
    "    print(i,'-',total_count_dict[i])"
   ]
  },
  {
   "cell_type": "markdown",
   "id": "dafb201d",
   "metadata": {},
   "source": [
    "### 3.Depict this information using a suitable graph"
   ]
  },
  {
   "cell_type": "code",
   "execution_count": 93,
   "id": "3bcf160f",
   "metadata": {},
   "outputs": [
    {
     "data": {
      "image/png": "[encoded data removed]",
      "text/plain": [
       "<Figure size 640x480 with 1 Axes>"
      ]
     },
     "metadata": {},
     "output_type": "display_data"
    }
   ],
   "source": [
    "# Using total_count_dict's keys and values to create the bar graph\n",
    "plt.bar(total_count_dict.keys(),total_count_dict.values(),color = 'b')\n",
    "plt.ylabel('Number Of Posts In Previous 3 Days -->',size = 13)\n",
    "plt.xlabel('Usernames-->',size = 15)\n",
    "plt.title('Usernames ~ Number Of Posts In Previous 3 Days',size = 20,color = 'red',alpha = 1.0)\n",
    "plt.xticks(rotation=60)\n",
    "plt.show()"
   ]
  },
  {
   "cell_type": "markdown",
   "id": "57b0e3f0",
   "metadata": {},
   "source": [
    "# --------------------------------------------------------------------------------------------------------------"
   ]
  },
  {
   "cell_type": "markdown",
   "id": "1db12dfb",
   "metadata": {},
   "source": [
    "## PROBLEM - 2"
   ]
  },
  {
   "cell_type": "markdown",
   "id": "fd7e35b1",
   "metadata": {},
   "source": [
    "Your friend also needs a list of hashtags that he should use in his posts.\n",
    "1. Open the 5 handles you obtained in the last question, and scrape the content of the first 10 posts of each handle.\n",
    "2. Prepare a list of all words used in all the scraped posts and calculate the frequency of each word.\n",
    "3. Create a csv file with two columns : the word and its frequency\n",
    "4. Now, find the hashtags that were most popular among these bloggers\n",
    "5. Plot a Pie Chart of the top 5 hashtags obtained and the number of times they were used by these bloggers in the scraped posts."
   ]
  },
  {
   "cell_type": "markdown",
   "id": "5069955d",
   "metadata": {},
   "source": [
    "### 1.Open the 5 handles you obtained in the last question, and scrape the content of the first 10 posts of each handle."
   ]
  },
  {
   "cell_type": "code",
   "execution_count": 43,
   "id": "174b7d98",
   "metadata": {},
   "outputs": [],
   "source": [
    "def extract_post_content(handle):\n",
    "    try:\n",
    "        content_list = []\n",
    "        for username in handle:\n",
    "            #this part open search button and searches the username and opens the profile\n",
    "            search_button()\n",
    "            time.sleep(2)\n",
    "            open_search_profile(username)\n",
    "            #scrolling to getting post\n",
    "            driver.execute_script('window.scrollTo(0, 3000);')\n",
    "            time.sleep(2)\n",
    "            driver.execute_script('window.scrollTo(0, -3000);')\n",
    "            time.sleep(2)\n",
    "            #locating posts in the user page\n",
    "            posts = driver.find_elements(By.CLASS_NAME,'_aagu')\n",
    "            time.sleep(3)\n",
    "            for post in posts[:10]:\n",
    "                time.sleep(2)\n",
    "                post.click()\n",
    "                time.sleep(3)\n",
    "                #locating the contentor hashtags of the post\n",
    "                hashtags = wait.until(EC.presence_of_all_elements_located((By.XPATH,'//li[@class = \"_a9zj _a9zl  _a9z5\"]//div[@class = \"_a9zs\"]/h1/a')))\n",
    "                for hashtag in hashtags:\n",
    "                    content_list.append(hashtag.text)\n",
    "            # Closing the Post\n",
    "                close = driver.find_elements(By.XPATH,\"//div[@class = 'x6s0dn4 x78zum5 xdt5ytf xl56j7k']\")\n",
    "                for j in close:\n",
    "                    cl = bs(j.get_attribute(\"innerHTML\"),\"html.parser\").svg['aria-label']\n",
    "                    if cl == \"Close\":\n",
    "                        j.click()\n",
    "                        break\n",
    "        return content_list\n",
    "    except TE:\n",
    "        print(\"Something Went Wrong!\")"
   ]
  },
  {
   "cell_type": "code",
   "execution_count": 45,
   "id": "3eebefcd",
   "metadata": {},
   "outputs": [],
   "source": [
    "#the fifth user is having some problem due to which only four users are considered\n",
    "handle = list(total_count_dict.keys())\n",
    "hashtags = extract_post_content(handle[:4])"
   ]
  },
  {
   "cell_type": "code",
   "execution_count": 47,
   "id": "136bef87",
   "metadata": {},
   "outputs": [
    {
     "name": "stdout",
     "output_type": "stream",
     "text": [
      "Something Went Wrong!\n"
     ]
    }
   ],
   "source": [
    "un = ['thefoodmedic ']\n",
    "h = extract_post_content(un) "
   ]
  },
  {
   "cell_type": "code",
   "execution_count": 46,
   "id": "500bba36",
   "metadata": {},
   "outputs": [
    {
     "name": "stdout",
     "output_type": "stream",
     "text": [
      "['@inagarten', '@isabel.c.montes', '#f52community', '@annabillingskog', '#f52community', '#f52grams', '@oliviamackmccool', '#f52community', '@emilydrydenphoto', '#f52community', '#f52grams', '@nigellalawson', '#geniusrecipe', '@miglorious', '@jamesransom_nyc', '#f52community', '#f52grams', '@jun.and.tonic', '#f52community', '#f52grams', '@ottolenghi', '@ivo_bisignano', '@serax_official', '@posiehh', '@posiehh', '#f52community', '#f52grams', '@jamesransom_nyc', '#f52community', '#f52grams', '@ladyandpups', '#f52community', '#f52grams', '@yflhome', '@jemimahrodrigues', '@bigbasketcom', '@jemimahrodrigues', '#chefitup', '#yourfoodlab', '#cookingchallenge', '@yflhome', '@sanjyotkeer', '#yourfoodlab', '#newlaunch', '#trynow', '#kitchenupgrade', '#kitchenessentials', '#kitchenaesthetic', '#stunning', '#upgradeyourkitchen', '#kitchengadgets', '#futuristicstyle', '#bladesofglory', '#sanjyotkeer', '#blender', '#yflhome', '#yourfoodlab', '#kitchenupgrade', '#kitchenessentials', '#kitchenaesthetic', '#stunning', '#upgradeyourkitchen', '#kitchengadgets', '#techupgrade', '#sanjyotkeer', '#blender', '#yflhome', '#yourfoodlab', '#YFLhome', '#YFLhome', '@karishmaktanna', '@karishmaktanna', '#chefitup', '#yourfoodlab', '#cookingchallenge', '@bigbasketcom', '@sanjyotkeer', '@karishmaktanna', '@jemimahrodrigues', '@yashrajmukhate', '@tanmaybhat', '#ChefItUp', '#Season2', '#CookingChallenge', '#MonsoonsWithSanjyot', '#StreetFood', '#YFL', '#recipe', '#cooking', '#chinesefood', '#jelly', '#noodles', '#summerrecipes', '#recipe', '#cooking', '#chinesefood', '#rice', '#ricerecipes', '#lifehacks', '#recipe', '#cooking', '#chinesefood', '#eggrecipes', '#eggs', '#spicyfood', '#easyrecipes', '#cooking', '#chinesefood', '#crêpe', '#snack', '#eggrecipes', '#comfortfood', '#recipe', '#cooking', '#chinesefood', '#bellpeppers', '#eggrecipes', '#easyrecipes', '#cooking', '#chinesefood', '#beef', '#salad', '#meatlover', '#spicyfood', '#easyrecipes', '#cooking', '#chinesefood', '#cabbage', '#comfortfood', '#vegetable', '#easyrecipes', '#healthyrecipes', '#meat', '#pork', '#cucumber', '#garlic', '#cooking', '#chinesefood', '#recipe', '#cooking', '#chinesefood', '#crab', '#bluecrab', '#seafood', '#eggrecipes', '#easyrecipes', '#snack', '#cooking', '#chinesefood', '#crispy', '#appetizer', '#dessert', '#sweets', '@dilsefoodie', '#dilsefoodie', '#food', '#dilsecouple', '#foodfood', '#pancake', '#dilsefoodie', '#cheese', '#burger', '#chicken', '#streetfood', '#thailand', '#dilsefoodie', '#phuket', '#beach', '#patongbeach', '#dilsefoodie', '#dilsecouple', '#food', '#foodfood', '#breakfast', '#streetfood', '#dilsefoodie', '#food', '#dilsecouple', '#subhashnagar', '#streetfood', '#dilsefoodie', '#chole', '#kulche', '#streetfood', '#food', '#foodfood', '#reelkarofeelkaro', '#dilsefoodie', '#cholebhature', '#food', '#foodfood', '#streetfood', '@naansence_01', '#dilsefoodie', '#dilsecouple', '#naan', '#butter', '#butterchicken', '#dilsefoodie', '#southindian', '#food', '#breakfast']\n"
     ]
    }
   ],
   "source": [
    "print(hashtags)"
   ]
  },
  {
   "cell_type": "markdown",
   "id": "039d0f9c",
   "metadata": {},
   "source": [
    "### 2.Prepare a list of all words used in all the scraped posts and calculate the frequency of each word."
   ]
  },
  {
   "cell_type": "code",
   "execution_count": 48,
   "id": "af9e7736",
   "metadata": {},
   "outputs": [
    {
     "name": "stdout",
     "output_type": "stream",
     "text": [
      "#cooking 10\n",
      "#chinesefood 10\n",
      "#f52community 9\n",
      "#dilsefoodie 9\n",
      "#f52grams 7\n",
      "#food 6\n",
      "#yourfoodlab 5\n",
      "#recipe 5\n",
      "#easyrecipes 5\n",
      "#streetfood 5\n",
      "#eggrecipes 4\n",
      "#dilsecouple 4\n",
      "#foodfood 4\n",
      "@jemimahrodrigues 3\n",
      "@karishmaktanna 3\n",
      "@jamesransom_nyc 2\n",
      "@posiehh 2\n",
      "@yflhome 2\n",
      "@bigbasketcom 2\n",
      "#chefitup 2\n",
      "#cookingchallenge 2\n",
      "@sanjyotkeer 2\n",
      "#kitchenupgrade 2\n",
      "#kitchenessentials 2\n",
      "#kitchenaesthetic 2\n",
      "#stunning 2\n",
      "#upgradeyourkitchen 2\n",
      "#kitchengadgets 2\n",
      "#sanjyotkeer 2\n",
      "#blender 2\n",
      "#yflhome 2\n",
      "#YFLhome 2\n",
      "#spicyfood 2\n",
      "#snack 2\n",
      "#comfortfood 2\n",
      "#breakfast 2\n",
      "@inagarten 1\n",
      "@isabel.c.montes 1\n",
      "@annabillingskog 1\n",
      "@oliviamackmccool 1\n",
      "@emilydrydenphoto 1\n",
      "@nigellalawson 1\n",
      "#geniusrecipe 1\n",
      "@miglorious 1\n",
      "@jun.and.tonic 1\n",
      "@ottolenghi 1\n",
      "@ivo_bisignano 1\n",
      "@serax_official 1\n",
      "@ladyandpups 1\n",
      "#newlaunch 1\n",
      "#trynow 1\n",
      "#futuristicstyle 1\n",
      "#bladesofglory 1\n",
      "#techupgrade 1\n",
      "@yashrajmukhate 1\n",
      "@tanmaybhat 1\n",
      "#ChefItUp 1\n",
      "#Season2 1\n",
      "#CookingChallenge 1\n",
      "#MonsoonsWithSanjyot 1\n",
      "#StreetFood 1\n",
      "#YFL 1\n",
      "#jelly 1\n",
      "#noodles 1\n",
      "#summerrecipes 1\n",
      "#rice 1\n",
      "#ricerecipes 1\n",
      "#lifehacks 1\n",
      "#eggs 1\n",
      "#crêpe 1\n",
      "#bellpeppers 1\n",
      "#beef 1\n",
      "#salad 1\n",
      "#meatlover 1\n",
      "#cabbage 1\n",
      "#vegetable 1\n",
      "#healthyrecipes 1\n",
      "#meat 1\n",
      "#pork 1\n",
      "#cucumber 1\n",
      "#garlic 1\n",
      "#crab 1\n",
      "#bluecrab 1\n",
      "#seafood 1\n",
      "#crispy 1\n",
      "#appetizer 1\n",
      "#dessert 1\n",
      "#sweets 1\n",
      "@dilsefoodie 1\n",
      "#pancake 1\n",
      "#cheese 1\n",
      "#burger 1\n",
      "#chicken 1\n",
      "#thailand 1\n",
      "#phuket 1\n",
      "#beach 1\n",
      "#patongbeach 1\n",
      "#subhashnagar 1\n",
      "#chole 1\n",
      "#kulche 1\n",
      "#reelkarofeelkaro 1\n",
      "#cholebhature 1\n",
      "@naansence_01 1\n",
      "#naan 1\n",
      "#butter 1\n",
      "#butterchicken 1\n",
      "#southindian 1\n"
     ]
    }
   ],
   "source": [
    "hashtag_dict = {}\n",
    "\n",
    "words_list = []\n",
    "for hashes in hashtags:\n",
    "    hashtag_dict[hashes] = hashtag_dict.get(hashes,0) + 1\n",
    "    \n",
    "for i in sorted(hashtag_dict, key=hashtag_dict.get, reverse=True):\n",
    "    words_list.append([i,hashtag_dict[i]])\n",
    "    print(i,hashtag_dict[i])"
   ]
  },
  {
   "cell_type": "markdown",
   "id": "cb9422ee",
   "metadata": {},
   "source": [
    "### 3.Create a csv file with two columns : the word and its frequency"
   ]
  },
  {
   "cell_type": "code",
   "execution_count": 49,
   "id": "5fee4006",
   "metadata": {},
   "outputs": [
    {
     "data": {
      "text/html": [
       "<div>\n",
       "<style scoped>\n",
       "    .dataframe tbody tr th:only-of-type {\n",
       "        vertical-align: middle;\n",
       "    }\n",
       "\n",
       "    .dataframe tbody tr th {\n",
       "        vertical-align: top;\n",
       "    }\n",
       "\n",
       "    .dataframe thead th {\n",
       "        text-align: right;\n",
       "    }\n",
       "</style>\n",
       "<table border=\"1\" class=\"dataframe\">\n",
       "  <thead>\n",
       "    <tr style=\"text-align: right;\">\n",
       "      <th></th>\n",
       "      <th>Word</th>\n",
       "      <th>Frequency</th>\n",
       "    </tr>\n",
       "  </thead>\n",
       "  <tbody>\n",
       "    <tr>\n",
       "      <th>0</th>\n",
       "      <td>#cooking</td>\n",
       "      <td>10</td>\n",
       "    </tr>\n",
       "    <tr>\n",
       "      <th>1</th>\n",
       "      <td>#chinesefood</td>\n",
       "      <td>10</td>\n",
       "    </tr>\n",
       "    <tr>\n",
       "      <th>2</th>\n",
       "      <td>#f52community</td>\n",
       "      <td>9</td>\n",
       "    </tr>\n",
       "    <tr>\n",
       "      <th>3</th>\n",
       "      <td>#dilsefoodie</td>\n",
       "      <td>9</td>\n",
       "    </tr>\n",
       "    <tr>\n",
       "      <th>4</th>\n",
       "      <td>#f52grams</td>\n",
       "      <td>7</td>\n",
       "    </tr>\n",
       "    <tr>\n",
       "      <th>5</th>\n",
       "      <td>#food</td>\n",
       "      <td>6</td>\n",
       "    </tr>\n",
       "    <tr>\n",
       "      <th>6</th>\n",
       "      <td>#yourfoodlab</td>\n",
       "      <td>5</td>\n",
       "    </tr>\n",
       "    <tr>\n",
       "      <th>7</th>\n",
       "      <td>#recipe</td>\n",
       "      <td>5</td>\n",
       "    </tr>\n",
       "    <tr>\n",
       "      <th>8</th>\n",
       "      <td>#easyrecipes</td>\n",
       "      <td>5</td>\n",
       "    </tr>\n",
       "    <tr>\n",
       "      <th>9</th>\n",
       "      <td>#streetfood</td>\n",
       "      <td>5</td>\n",
       "    </tr>\n",
       "  </tbody>\n",
       "</table>\n",
       "</div>"
      ],
      "text/plain": [
       "            Word  Frequency\n",
       "0       #cooking         10\n",
       "1   #chinesefood         10\n",
       "2  #f52community          9\n",
       "3   #dilsefoodie          9\n",
       "4      #f52grams          7\n",
       "5          #food          6\n",
       "6   #yourfoodlab          5\n",
       "7        #recipe          5\n",
       "8   #easyrecipes          5\n",
       "9    #streetfood          5"
      ]
     },
     "execution_count": 49,
     "metadata": {},
     "output_type": "execute_result"
    }
   ],
   "source": [
    "dataframe = pd.DataFrame(words_list,columns = ['Word','Frequency'])\n",
    "#conveting the above dataframe to csv using ->to_csv\n",
    "dataframe.to_csv('words_frequency.csv',index = False)\n",
    "dataframe.head(10)"
   ]
  },
  {
   "cell_type": "markdown",
   "id": "33137fce",
   "metadata": {},
   "source": [
    "### 4.Now, find the hashtags that were most popular among these bloggers"
   ]
  },
  {
   "cell_type": "code",
   "execution_count": 50,
   "id": "4478637e",
   "metadata": {},
   "outputs": [
    {
     "name": "stdout",
     "output_type": "stream",
     "text": [
      "#cooking\n"
     ]
    }
   ],
   "source": [
    "print(words_list[0][0])"
   ]
  },
  {
   "cell_type": "markdown",
   "id": "a13d99a4",
   "metadata": {},
   "source": [
    "### 5.Plot a Pie Chart of the top 5 hashtags obtained and the number of times they were used by these bloggers in the scraped posts"
   ]
  },
  {
   "cell_type": "code",
   "execution_count": 54,
   "id": "3c3305e9",
   "metadata": {},
   "outputs": [
    {
     "data": {
      "image/png": "[encoded data removed]",
      "text/plain": [
       "<Figure size 640x480 with 1 Axes>"
      ]
     },
     "metadata": {},
     "output_type": "display_data"
    }
   ],
   "source": [
    "#used values we got in Q2.2 to get the folloiwng pie chart\n",
    "hash_name = [words_list[0][0],words_list[1][0],words_list[2][0],words_list[3][0],words_list[4][0]]\n",
    "count = [words_list[0][1],words_list[1][1],words_list[2][1],words_list[3][1],words_list[4][1]]\n",
    "plt.pie(count,labels=hash_name,autopct='%0.2f%%',radius=1.2,counterclock=False,startangle=90)\n",
    "plt.title('Top 5 Hashtags used by bloggers ',fontsize=20, color='red',alpha=1.0)\n",
    "plt.show()"
   ]
  },
  {
   "cell_type": "markdown",
   "id": "76379e05",
   "metadata": {},
   "source": [
    "# ---------------------------------------------------------------------------------------------------------------"
   ]
  },
  {
   "cell_type": "markdown",
   "id": "4c0c91ab",
   "metadata": {},
   "source": [
    "# PROBLEM - 3"
   ]
  },
  {
   "cell_type": "markdown",
   "id": "32cee42e",
   "metadata": {},
   "source": [
    "You need to also calculate average followers : likes ratio for the obtained handles.\n",
    "Followers : Likes ratio is calculated as follows:\n",
    "1. Find out the likes of the top 10 posts of the 5 handles obtained earlier.\n",
    "2. Calculate the average likes for a handle.\n",
    "3. Divide the average likes obtained from the number of followers of the handle to get the average followers:like ratio of each handle.\n",
    "4. Create a bar graph to depict the above obtained information."
   ]
  },
  {
   "cell_type": "markdown",
   "id": "cf274ef9",
   "metadata": {},
   "source": [
    "### 1.Find out the likes of the top 10 posts of the 5 handles obtained earlier."
   ]
  },
  {
   "cell_type": "code",
   "execution_count": 68,
   "id": "ed54b095",
   "metadata": {},
   "outputs": [],
   "source": [
    "def finding_likes(user):\n",
    "    try:\n",
    "        likes = []\n",
    "        #clicking on search button and opening the user profile\n",
    "        search_button()\n",
    "        open_search_profile(user)\n",
    "        #scrolling for the post\n",
    "        driver.execute_script('window.scrollTo(0, 3000);')\n",
    "        time.sleep(2)\n",
    "        driver.execute_script('window.scrollTo(0, -3000);')\n",
    "        time.sleep(2)\n",
    "        #locating post and clicking upto 10 posts\n",
    "        posts = driver.find_elements(By.CLASS_NAME,'_aagu')\n",
    "        for post in posts[:10]:\n",
    "            time.sleep(2)\n",
    "            post.click()\n",
    "            time.sleep(3)\n",
    "            try:\n",
    "                #finding like on video and extracting it\n",
    "                like = wait.until(EC.presence_of_element_located((By.XPATH,'//span[@class = \"x193iq5w xeuugli x1fj9vlw x13faqbe x1vvkbs xt0psk2 x1i0vuye xvs91rp x1s688f x5n08af x10wh9bi x1wdrske x8viiok x18hxmgj\"]/span')))\n",
    "                no_of_like = (like.text).replace(',','')\n",
    "                likes.append(int(no_of_like))\n",
    "                time.sleep(2)\n",
    "                close = driver.find_elements(By.XPATH,\"//div[@class = 'x6s0dn4 x78zum5 xdt5ytf xl56j7k']\")\n",
    "                for j in close:\n",
    "                    cl = bs(j.get_attribute(\"innerHTML\"),\"html.parser\").svg['aria-label']\n",
    "                    if cl == \"Close\":\n",
    "                        j.click()\n",
    "                        break\n",
    "            except TE:\n",
    "                #finding like on image and extracting it\n",
    "                like = wait.until(EC.presence_of_element_located((By.XPATH,'//span[@class = \"x193iq5w xeuugli x1fj9vlw x13faqbe x1vvkbs xt0psk2 x1i0vuye xvs91rp x1s688f x5n08af x10wh9bi x1wdrske x8viiok x18hxmgj\"]/span')))\n",
    "                no_of_like = (like.text).replace(',','')\n",
    "                likes.append(int(no_of_like))\n",
    "                time.sleep(2)\n",
    "                close = driver.find_elements(By.XPATH,\"//div[@class = 'x6s0dn4 x78zum5 xdt5ytf xl56j7k']\")\n",
    "                for j in close:\n",
    "                    cl = bs(j.get_attribute(\"innerHTML\"),\"html.parser\").svg['aria-label']\n",
    "                    if cl == \"Close\":\n",
    "                        j.click()\n",
    "                        break\n",
    "        return likes\n",
    "    except TE:\n",
    "        print('Something Went Wrong!')"
   ]
  },
  {
   "cell_type": "code",
   "execution_count": 62,
   "id": "cacee7e1",
   "metadata": {},
   "outputs": [],
   "source": [
    "def finding_likes(user):\n",
    "    try:\n",
    "        likes = []\n",
    "        #clicking on search button and opening the user profile\n",
    "        search_button()\n",
    "        open_search_profile(user)\n",
    "        #scrolling for the post\n",
    "        driver.execute_script(\"window.scrollTo(0,3000);\")\n",
    "        time.sleep(2)\n",
    "        driver.execute_script(\"window.scrollTo(0.-3000);\")\n",
    "        time.sleep(2)\n",
    "        #locating post and clicking upto 10 posts\n",
    "        posts = driver.find_elements(By.CLASS_NAME,'_aagu')\n",
    "        for post in posts[:10]:\n",
    "            post.click()\n",
    "            time.sleep(3)    \n",
    "            #finding like on video and extracting it\n",
    "            like = wait.until(EC.presence_of_element_located((By.XPATH,'//span[@class = \"x193iq5w xeuugli x1fj9vlw x13faqbe x1vvkbs xt0psk2 x1i0vuye xvs91rp x1s688f x5n08af x10wh9bi x1wdrske x8viiok x18hxmgj\"]/span')))\n",
    "            no_of_like = (like.text).replace(',','')\n",
    "            likes.append(int(no_of_like))\n",
    "            time.sleep(2)\n",
    "            close = driver.find_elements(By.XPATH,\"//div[@class = 'x6s0dn4 x78zum5 xdt5ytf xl56j7k']\")\n",
    "            for j in close:\n",
    "                cl = bs(j.get_attribute(\"innerHTML\"),\"html.parser\").svg['aria-label']\n",
    "                if cl == \"Close\":\n",
    "                    j.click()\n",
    "                    break\n",
    "        return likes\n",
    "    except TE:\n",
    "        print('Something Went Wrong!')"
   ]
  },
  {
   "cell_type": "code",
   "execution_count": 70,
   "id": "927be8c7",
   "metadata": {
    "scrolled": true
   },
   "outputs": [
    {
     "name": "stdout",
     "output_type": "stream",
     "text": [
      "Number of likes of the top 10 posts of food52 :\n",
      "49750 Likes\n",
      "3907 Likes\n",
      "84130 Likes\n",
      "2647 Likes\n",
      "1256 Likes\n",
      "1246 Likes\n",
      "2459 Likes\n",
      "7218 Likes\n",
      "1625 Likes\n",
      "1974 Likes\n",
      "\n",
      "Number of likes of the top 10 posts of yourfoodlab :\n",
      "7451 Likes\n",
      "6938 Likes\n",
      "8819 Likes\n",
      "7583 Likes\n",
      "3329 Likes\n",
      "11764 Likes\n",
      "33562 Likes\n",
      "9473 Likes\n",
      "10144 Likes\n",
      "46993 Likes\n",
      "\n",
      "Number of likes of the top 10 posts of foodiechina888 :\n",
      "283616 Likes\n",
      "117361 Likes\n",
      "104413 Likes\n",
      "3634 Likes\n",
      "8545 Likes\n",
      "9460 Likes\n",
      "13505 Likes\n",
      "10052 Likes\n",
      "12011 Likes\n",
      "7774 Likes\n",
      "\n",
      "Number of likes of the top 10 posts of dilsefoodie :\n",
      "3318 Likes\n",
      "5049 Likes\n",
      "5280 Likes\n",
      "5489 Likes\n",
      "18924 Likes\n",
      "10345 Likes\n",
      "5683 Likes\n",
      "9038 Likes\n",
      "97710 Likes\n",
      "11696 Likes\n",
      "\n",
      "Number of likes of the top 10 posts of thefoodmedic :\n",
      "13517 Likes\n",
      "6557 Likes\n",
      "18466 Likes\n",
      "5082 Likes\n",
      "3900 Likes\n",
      "4704 Likes\n",
      "10981 Likes\n",
      "3067 Likes\n",
      "2205 Likes\n",
      "7512 Likes\n",
      "\n"
     ]
    }
   ],
   "source": [
    "#dct will store username with list of likes\n",
    "like_dct = {}\n",
    "for user in handle: \n",
    "    likes = finding_likes(user)\n",
    "    like_dct[user] = likes\n",
    "    print('Number of likes of the top 10 posts of',user,':')\n",
    "    for i in likes :\n",
    "        print(i,'Likes')\n",
    "    print()"
   ]
  },
  {
   "cell_type": "markdown",
   "id": "7180f996",
   "metadata": {},
   "source": [
    "### 2.Calculate the average likes for a handle."
   ]
  },
  {
   "cell_type": "code",
   "execution_count": 72,
   "id": "40f2295d",
   "metadata": {},
   "outputs": [],
   "source": [
    "#This function will return a dictionary of {'username':average like of the user}\n",
    "def avg_likes(d):\n",
    "    avg_likes = {}\n",
    "    for key,val in d.items():\n",
    "            avg = sum(val) // 10\n",
    "            avg_likes[key] = avg\n",
    "    return avg_likes"
   ]
  },
  {
   "cell_type": "code",
   "execution_count": 74,
   "id": "cda0e46d",
   "metadata": {},
   "outputs": [
    {
     "name": "stdout",
     "output_type": "stream",
     "text": [
      "Average likes for each handle are :\n",
      "food52 : 15621\n",
      "yourfoodlab : 14605\n",
      "foodiechina888 : 57037\n",
      "dilsefoodie : 17253\n",
      "thefoodmedic : 7599\n"
     ]
    }
   ],
   "source": [
    "avg_user_like = avg_likes(like_dct)\n",
    "\n",
    "print('Average likes for each handle are :')\n",
    "for user,likes in avg_user_like.items():\n",
    "    print(user, ':', likes)"
   ]
  },
  {
   "cell_type": "markdown",
   "id": "52aac655",
   "metadata": {},
   "source": [
    "### 3.Divide the average likes obtained from the number of followers of the handle to get the average followers:like ratio of each handle."
   ]
  },
  {
   "cell_type": "code",
   "execution_count": 78,
   "id": "cd35e47f",
   "metadata": {},
   "outputs": [],
   "source": [
    "def avg_follower_like_ratio(top_handle,avg_user_like,users):\n",
    "    follower_like = {}\n",
    "    for i in range(5) :\n",
    "        follower_like[users[i]] = top_handle[users[i]]//avg_user_like[users[i]]\n",
    "    return follower_like"
   ]
  },
  {
   "cell_type": "code",
   "execution_count": 80,
   "id": "c75c05ca",
   "metadata": {},
   "outputs": [
    {
     "name": "stdout",
     "output_type": "stream",
     "text": [
      "Average followers:like ratio of each handle :\n",
      "food52 : 233\n",
      "yourfoodlab : 185\n",
      "foodiechina888 : 42\n",
      "dilsefoodie : 66\n",
      "thefoodmedic : 81\n"
     ]
    }
   ],
   "source": [
    "#using the answer of problem 1.1 which contains a dictionary of {'username':followers} ie top_handle\n",
    "#extracing username from top_handles\n",
    "top_handle_names = list(top_handle.keys())\n",
    "#now calling function getavg_foll_like_ratio(top_handles,avg_like,users) \n",
    "follower_like_ratio = avg_follower_like_ratio(top_handle, avg_user_like, top_handle_names)\n",
    "print('Average followers:like ratio of each handle :')\n",
    "for user,ratio in follower_like_ratio.items():\n",
    "    print(user, ':', ratio)"
   ]
  },
  {
   "cell_type": "markdown",
   "id": "92658d5f",
   "metadata": {},
   "source": [
    "### 4.Create a bar graph to depict the above obtained information."
   ]
  },
  {
   "cell_type": "code",
   "execution_count": 91,
   "id": "919dea89",
   "metadata": {},
   "outputs": [
    {
     "data": {
      "image/png": "[encoded data removed]",
      "text/plain": [
       "<Figure size 640x480 with 1 Axes>"
      ]
     },
     "metadata": {},
     "output_type": "display_data"
    }
   ],
   "source": [
    "# plotting a bar graph for case - user vs average like of user\n",
    "#using the data in 3.2\n",
    "username = list(avg_user_like.keys())\n",
    "avg_like = list(avg_user_like.values())\n",
    "\n",
    "plt.bar(username,avg_like,color='g',alpha=0.8)\n",
    "plt.ylabel(\"Average Likes-->\",size = 15)\n",
    "plt.xlabel(\"Handle Name-->\", size = 15)\n",
    "plt.title('Average like for each handle ',size = 20 ,color='red',alpha=1.0)\n",
    "plt.xticks(rotation=60)\n",
    "plt.show()"
   ]
  },
  {
   "cell_type": "code",
   "execution_count": 90,
   "id": "c6fbaf5a",
   "metadata": {},
   "outputs": [
    {
     "data": {
      "image/png": "[encoded data removed]",
      "text/plain": [
       "<Figure size 640x480 with 1 Axes>"
      ]
     },
     "metadata": {},
     "output_type": "display_data"
    }
   ],
   "source": [
    "# plotting a bar graph for case - user ~ average followers:like ratio of each handle\n",
    "# using in the data in 3.3\n",
    "username = list(follower_like_ratio.keys())\n",
    "avg_like = list(follower_like_ratio.values())\n",
    "\n",
    "plt.bar(username,avg_like,color='b',alpha=0.8)\n",
    "plt.ylabel(\"Average Followers:Like Ratio-->\",size = 15)\n",
    "plt.xlabel(\"Handle Name-->\",size = 15)\n",
    "plt.title('Average Followers:Like Ratio of Each Handle ', size = 20,color='red',alpha=1.0)\n",
    "plt.xticks(rotation=60)\n",
    "plt.show()\n"
   ]
  },
  {
   "cell_type": "markdown",
   "id": "c68ea665",
   "metadata": {},
   "source": [
    "# ---------------------------------------------------------------------------------------------------------------"
   ]
  }
 ],
 "metadata": {
  "kernelspec": {
   "display_name": "Python 3 (ipykernel)",
   "language": "python",
   "name": "python3"
  },
  "language_info": {
   "codemirror_mode": {
    "name": "ipython",
    "version": 3
   },
   "file_extension": ".py",
   "mimetype": "text/x-python",
   "name": "python",
   "nbconvert_exporter": "python",
   "pygments_lexer": "ipython3",
   "version": "3.10.9"
  }
 },
 "nbformat": 4,
 "nbformat_minor": 5
}
